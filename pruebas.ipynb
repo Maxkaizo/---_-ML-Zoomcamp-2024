{
 "cells": [
  {
   "cell_type": "markdown",
   "metadata": {},
   "source": [
    "En este código se manejan los valores númericos como categorias\n",
    "\n",
    "Desventaja, se pierde interpretabilidad\n"
   ]
  },
  {
   "cell_type": "code",
   "execution_count": 1,
   "metadata": {},
   "outputs": [
    {
     "name": "stdout",
     "output_type": "stream",
     "text": [
      "Transformed Data:\n",
      "[[1. 0. 1. 0. 0.]\n",
      " [0. 1. 0. 1. 0.]\n",
      " [1. 0. 0. 0. 1.]]\n",
      "\n",
      "Feature Names:\n",
      "['PA3_3_BIMESTRE=01' 'PA3_3_BIMESTRE=02' 'PA3_3_NIVEL=01' 'PA3_3_NIVEL=02'\n",
      " 'PA3_3_NIVEL=03']\n"
     ]
    }
   ],
   "source": [
    "from sklearn.feature_extraction import DictVectorizer\n",
    "\n",
    "# Example data with numerical categories\n",
    "data = [\n",
    "    {'PA3_3_NIVEL': '01', 'PA3_3_BIMESTRE': '01'},\n",
    "    {'PA3_3_NIVEL': '02', 'PA3_3_BIMESTRE': '02'},\n",
    "    {'PA3_3_NIVEL': '03', 'PA3_3_BIMESTRE': '01'},\n",
    "]\n",
    "\n",
    "# Initialize DictVectorizer\n",
    "vec = DictVectorizer(sparse=False)\n",
    "\n",
    "# Transform the data\n",
    "transformed_data = vec.fit_transform(data)\n",
    "\n",
    "# Feature names\n",
    "feature_names = vec.get_feature_names_out()\n",
    "\n",
    "print(\"Transformed Data:\")\n",
    "print(transformed_data)\n",
    "print(\"\\nFeature Names:\")\n",
    "print(feature_names)\n"
   ]
  },
  {
   "cell_type": "code",
   "execution_count": null,
   "metadata": {},
   "outputs": [],
   "source": [
    "from sklearn.feature_extraction import DictVectorizer\n",
    "\n",
    "# Convertir el DataFrame en un diccionario para DictVectorizer\n",
    "data_dict = df.to_dict(orient='records')\n",
    "\n",
    "# Vectorizar\n",
    "vectorizer = DictVectorizer(sparse=False)\n",
    "X = vectorizer.fit_transform(data_dict)\n",
    "\n",
    "# Revisar las características generadas\n",
    "print(vectorizer.feature_names_)\n"
   ]
  }
 ],
 "metadata": {
  "kernelspec": {
   "display_name": "base",
   "language": "python",
   "name": "python3"
  },
  "language_info": {
   "codemirror_mode": {
    "name": "ipython",
    "version": 3
   },
   "file_extension": ".py",
   "mimetype": "text/x-python",
   "name": "python",
   "nbconvert_exporter": "python",
   "pygments_lexer": "ipython3",
   "version": "3.11.7"
  }
 },
 "nbformat": 4,
 "nbformat_minor": 2
}
