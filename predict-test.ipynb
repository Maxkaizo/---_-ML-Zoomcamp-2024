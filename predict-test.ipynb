{
 "cells": [
  {
   "cell_type": "code",
   "execution_count": 26,
   "metadata": {},
   "outputs": [],
   "source": [
    "import requests"
   ]
  },
  {
   "cell_type": "code",
   "execution_count": 27,
   "metadata": {},
   "outputs": [],
   "source": [
    "url = 'http://localhost:9696/predict'"
   ]
  },
  {
   "cell_type": "code",
   "execution_count": 28,
   "metadata": {},
   "outputs": [],
   "source": [
    "student = {\n",
    "  \"resident_seq_number\": 2,\n",
    "  \"sex\": \"male\",\n",
    "  \"age\": 26,\n",
    "  \"school_type\": \"public\",\n",
    "  \"school_grade\": \"bachelors\",\n",
    "  \"dropout\": 1,\n",
    "  \"em_hw_projects\": False,\n",
    "  \"em_tests\": False,\n",
    "  \"em_multimedia_evidence\": False,\n",
    "  \"em_class_participation\": False,\n",
    "  \"em_class_work\": False,\n",
    "  \"em_class_attendance\": False,\n",
    "  \"em_other\": False,\n",
    "  \"em_no_evaluation\": False,\n",
    "  \"et_smartphone\": False,\n",
    "  \"et_laptop\": False,\n",
    "  \"et_desktop_pc\": False,\n",
    "  \"et_tablet\": False,\n",
    "  \"et_flat_screen\": False,\n",
    "  \"et_didactic_material\": False,\n",
    "  \"et_other\": False,\n",
    "  \"et_none\": False,\n",
    "  \"hr_mother\": False,\n",
    "  \"hr_father\": False,\n",
    "  \"hr_female_relative\": False,\n",
    "  \"hr_male_relative\": False,\n",
    "  \"hr_female_non_relative\": False,\n",
    "  \"hr_male_non_relative\": False,\n",
    "  \"hr_none\": False,\n",
    "  \"help_hours\": 0,\n",
    "  \"expected_grade\": \"unknown\",\n",
    "  \"ap_stressed\": False,\n",
    "  \"ap_depressed\": False,\n",
    "  \"ap_academic_desperation\": False,\n",
    "  \"ap_social_difficulty\": False,\n",
    "  \"ap_no_issues\": False,\n",
    "  \"economic_participation\": \"worked_one_hour\",\n",
    "  \"work_hours\": 60,\n",
    "  \"economic_consequences\": \"economic_unsustain\",\n",
    "  \"state_number\": 23,\n",
    "  \"period_type\": \"bimester\",\n",
    "  \"period_number\": 6\n",
    "}\n"
   ]
  },
  {
   "cell_type": "code",
   "execution_count": 29,
   "metadata": {},
   "outputs": [
    {
     "data": {
      "text/plain": [
       "{'dropout': True, 'dropout_probability': 0.984918117777565}"
      ]
     },
     "execution_count": 29,
     "metadata": {},
     "output_type": "execute_result"
    }
   ],
   "source": [
    "requests.post(url, json=student).json()"
   ]
  },
  {
   "cell_type": "code",
   "execution_count": null,
   "metadata": {},
   "outputs": [],
   "source": []
  }
 ],
 "metadata": {
  "kernelspec": {
   "display_name": "Python 3",
   "language": "python",
   "name": "python3"
  },
  "language_info": {
   "codemirror_mode": {
    "name": "ipython",
    "version": 3
   },
   "file_extension": ".py",
   "mimetype": "text/x-python",
   "name": "python",
   "nbconvert_exporter": "python",
   "pygments_lexer": "ipython3",
   "version": "3.11.9"
  }
 },
 "nbformat": 4,
 "nbformat_minor": 2
}
