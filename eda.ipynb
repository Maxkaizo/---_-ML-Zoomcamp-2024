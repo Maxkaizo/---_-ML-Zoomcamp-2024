{
 "cells": [
  {
   "cell_type": "markdown",
   "metadata": {},
   "source": [
    "# **Exploratory Data Analysis**"
   ]
  },
  {
   "cell_type": "markdown",
   "metadata": {},
   "source": [
    "# Introduction"
   ]
  },
  {
   "cell_type": "markdown",
   "metadata": {},
   "source": [
    "In this notebook, we will focus on evaluating the dataset and its characteristics from a Machine Learning perspective.\n",
    "\n",
    "The main goal of this process is to enhance the model's performance by addressing data issues such as missing values, anomalies, and potential capture errors.\n",
    "\n",
    "The validations we will perform include the following:\n",
    "\n",
    "- **Data Types:** Validating data formats for consistency and compatibility.\n",
    "- **Missing Data:** Identifying and addressing gaps in the dataset.\n",
    "- **Descriptive Statistics:** Summarizing key statistical measures.\n",
    "- **Outliers:** Detecting and analyzing unusual data points.\n",
    "- **Capture Considerations:** Reviewing data collection methods for potential biases or errors.\n",
    "- **Class Balance:** Evaluating the distribution of target classes.\n",
    "- **Potential Correlation:** Assessing relationships between features.\n",
    "- **Distribution Analysis:** Validating data distribution"
   ]
  },
  {
   "cell_type": "markdown",
   "metadata": {},
   "source": [
    "## Load libraries and data"
   ]
  },
  {
   "cell_type": "code",
   "execution_count": 37,
   "metadata": {},
   "outputs": [],
   "source": [
    "import pandas as pd\n",
    "df = pd.read_csv('G:\\Mi unidad\\###_ ML Zoomcamp 2024\\enape_db_formated.csv')"
   ]
  },
  {
   "cell_type": "markdown",
   "metadata": {},
   "source": [
    "We're already familiar with the dataset, but I'll display it here for quick reference"
   ]
  },
  {
   "cell_type": "code",
   "execution_count": 2,
   "metadata": {},
   "outputs": [
    {
     "data": {
      "text/html": [
       "<div>\n",
       "<style scoped>\n",
       "    .dataframe tbody tr th:only-of-type {\n",
       "        vertical-align: middle;\n",
       "    }\n",
       "\n",
       "    .dataframe tbody tr th {\n",
       "        vertical-align: top;\n",
       "    }\n",
       "\n",
       "    .dataframe thead th {\n",
       "        text-align: right;\n",
       "    }\n",
       "</style>\n",
       "<table border=\"1\" class=\"dataframe\">\n",
       "  <thead>\n",
       "    <tr style=\"text-align: right;\">\n",
       "      <th></th>\n",
       "      <th>resident_seq_number</th>\n",
       "      <th>sex</th>\n",
       "      <th>age</th>\n",
       "      <th>school_type</th>\n",
       "      <th>school_grade</th>\n",
       "      <th>finished_grade</th>\n",
       "      <th>em_hw_projects</th>\n",
       "      <th>em_tests</th>\n",
       "      <th>em_multimedia_evidence</th>\n",
       "      <th>em_class_participation</th>\n",
       "      <th>...</th>\n",
       "      <th>ap_depressed</th>\n",
       "      <th>ap_academic_desperation</th>\n",
       "      <th>ap_social_difficulty</th>\n",
       "      <th>ap_no_issues</th>\n",
       "      <th>economic_participation</th>\n",
       "      <th>work_hours</th>\n",
       "      <th>economic_consequences</th>\n",
       "      <th>state_number</th>\n",
       "      <th>period_type</th>\n",
       "      <th>period_number</th>\n",
       "    </tr>\n",
       "  </thead>\n",
       "  <tbody>\n",
       "    <tr>\n",
       "      <th>0</th>\n",
       "      <td>1</td>\n",
       "      <td>male</td>\n",
       "      <td>13</td>\n",
       "      <td>public</td>\n",
       "      <td>primary</td>\n",
       "      <td>True</td>\n",
       "      <td>True</td>\n",
       "      <td>True</td>\n",
       "      <td>False</td>\n",
       "      <td>False</td>\n",
       "      <td>...</td>\n",
       "      <td>False</td>\n",
       "      <td>False</td>\n",
       "      <td>False</td>\n",
       "      <td>False</td>\n",
       "      <td>NaN</td>\n",
       "      <td>NaN</td>\n",
       "      <td>NaN</td>\n",
       "      <td>24</td>\n",
       "      <td>year</td>\n",
       "      <td>6.0</td>\n",
       "    </tr>\n",
       "    <tr>\n",
       "      <th>1</th>\n",
       "      <td>2</td>\n",
       "      <td>female</td>\n",
       "      <td>19</td>\n",
       "      <td>public</td>\n",
       "      <td>bachelors</td>\n",
       "      <td>True</td>\n",
       "      <td>True</td>\n",
       "      <td>True</td>\n",
       "      <td>False</td>\n",
       "      <td>False</td>\n",
       "      <td>...</td>\n",
       "      <td>False</td>\n",
       "      <td>False</td>\n",
       "      <td>False</td>\n",
       "      <td>False</td>\n",
       "      <td>studying_other</td>\n",
       "      <td>NaN</td>\n",
       "      <td>NaN</td>\n",
       "      <td>24</td>\n",
       "      <td>year</td>\n",
       "      <td>1.0</td>\n",
       "    </tr>\n",
       "    <tr>\n",
       "      <th>2</th>\n",
       "      <td>1</td>\n",
       "      <td>female</td>\n",
       "      <td>8</td>\n",
       "      <td>public</td>\n",
       "      <td>primary</td>\n",
       "      <td>True</td>\n",
       "      <td>True</td>\n",
       "      <td>True</td>\n",
       "      <td>False</td>\n",
       "      <td>False</td>\n",
       "      <td>...</td>\n",
       "      <td>False</td>\n",
       "      <td>True</td>\n",
       "      <td>False</td>\n",
       "      <td>False</td>\n",
       "      <td>NaN</td>\n",
       "      <td>NaN</td>\n",
       "      <td>NaN</td>\n",
       "      <td>22</td>\n",
       "      <td>year</td>\n",
       "      <td>2.0</td>\n",
       "    </tr>\n",
       "    <tr>\n",
       "      <th>3</th>\n",
       "      <td>1</td>\n",
       "      <td>male</td>\n",
       "      <td>27</td>\n",
       "      <td>private</td>\n",
       "      <td>bachelors</td>\n",
       "      <td>True</td>\n",
       "      <td>True</td>\n",
       "      <td>True</td>\n",
       "      <td>False</td>\n",
       "      <td>False</td>\n",
       "      <td>...</td>\n",
       "      <td>False</td>\n",
       "      <td>False</td>\n",
       "      <td>False</td>\n",
       "      <td>True</td>\n",
       "      <td>worked_one_hour</td>\n",
       "      <td>25.0</td>\n",
       "      <td>no_consequence</td>\n",
       "      <td>26</td>\n",
       "      <td>quadrimester</td>\n",
       "      <td>2.0</td>\n",
       "    </tr>\n",
       "    <tr>\n",
       "      <th>4</th>\n",
       "      <td>2</td>\n",
       "      <td>male</td>\n",
       "      <td>11</td>\n",
       "      <td>private</td>\n",
       "      <td>primary</td>\n",
       "      <td>True</td>\n",
       "      <td>True</td>\n",
       "      <td>True</td>\n",
       "      <td>False</td>\n",
       "      <td>False</td>\n",
       "      <td>...</td>\n",
       "      <td>False</td>\n",
       "      <td>False</td>\n",
       "      <td>False</td>\n",
       "      <td>True</td>\n",
       "      <td>NaN</td>\n",
       "      <td>NaN</td>\n",
       "      <td>NaN</td>\n",
       "      <td>18</td>\n",
       "      <td>year</td>\n",
       "      <td>5.0</td>\n",
       "    </tr>\n",
       "  </tbody>\n",
       "</table>\n",
       "<p>5 rows × 42 columns</p>\n",
       "</div>"
      ],
      "text/plain": [
       "   resident_seq_number     sex  age school_type school_grade  finished_grade  \\\n",
       "0                    1    male   13      public      primary            True   \n",
       "1                    2  female   19      public    bachelors            True   \n",
       "2                    1  female    8      public      primary            True   \n",
       "3                    1    male   27     private    bachelors            True   \n",
       "4                    2    male   11     private      primary            True   \n",
       "\n",
       "   em_hw_projects  em_tests  em_multimedia_evidence  em_class_participation  \\\n",
       "0            True      True                   False                   False   \n",
       "1            True      True                   False                   False   \n",
       "2            True      True                   False                   False   \n",
       "3            True      True                   False                   False   \n",
       "4            True      True                   False                   False   \n",
       "\n",
       "   ...  ap_depressed  ap_academic_desperation  ap_social_difficulty  \\\n",
       "0  ...         False                    False                 False   \n",
       "1  ...         False                    False                 False   \n",
       "2  ...         False                     True                 False   \n",
       "3  ...         False                    False                 False   \n",
       "4  ...         False                    False                 False   \n",
       "\n",
       "   ap_no_issues  economic_participation  work_hours  economic_consequences  \\\n",
       "0         False                     NaN         NaN                    NaN   \n",
       "1         False          studying_other         NaN                    NaN   \n",
       "2         False                     NaN         NaN                    NaN   \n",
       "3          True         worked_one_hour        25.0         no_consequence   \n",
       "4          True                     NaN         NaN                    NaN   \n",
       "\n",
       "   state_number   period_type  period_number  \n",
       "0            24          year            6.0  \n",
       "1            24          year            1.0  \n",
       "2            22          year            2.0  \n",
       "3            26  quadrimester            2.0  \n",
       "4            18          year            5.0  \n",
       "\n",
       "[5 rows x 42 columns]"
      ]
     },
     "execution_count": 2,
     "metadata": {},
     "output_type": "execute_result"
    }
   ],
   "source": [
    "df.head()"
   ]
  },
  {
   "cell_type": "code",
   "execution_count": 3,
   "metadata": {},
   "outputs": [
    {
     "data": {
      "text/plain": [
       "(19973, 42)"
      ]
     },
     "execution_count": 3,
     "metadata": {},
     "output_type": "execute_result"
    }
   ],
   "source": [
    "df.shape"
   ]
  },
  {
   "cell_type": "markdown",
   "metadata": {},
   "source": [
    "## Data Types"
   ]
  },
  {
   "cell_type": "code",
   "execution_count": 38,
   "metadata": {},
   "outputs": [],
   "source": [
    "numerical = list(df.select_dtypes(include=['float64', 'int64']).columns)\n",
    "categorical = list(df.select_dtypes(include=['object', 'category', 'string']).columns)\n",
    "boolean = list(df.select_dtypes(include=['bool']).columns)"
   ]
  },
  {
   "cell_type": "code",
   "execution_count": null,
   "metadata": {},
   "outputs": [
    {
     "name": "stdout",
     "output_type": "stream",
     "text": [
      "['resident_seq_number', 'age', 'help_hours', 'work_hours', 'state_number', 'period_number']\n",
      "['sex', 'school_type', 'school_grade', 'expected_grade', 'economic_participation', 'economic_consequences', 'period_type']\n",
      "['finished_grade', 'em_hw_projects', 'em_tests', 'em_multimedia_evidence', 'em_class_participation', 'em_class_work', 'em_class_attendance', 'em_other', 'em_no_evaluation', 'et_smartphone', 'et_laptop', 'et_desktop_pc', 'et_tablet', 'et_flat_screen', 'et_didactic_material', 'et_other', 'et_none', 'hr_mother', 'hr_father', 'hr_female_relative', 'hr_male_relative', 'hr_female_non_relative', 'hr_male_non_relative', 'hr_none', 'ap_stressed', 'ap_depressed', 'ap_academic_desperation', 'ap_social_difficulty', 'ap_no_issues']\n"
     ]
    }
   ],
   "source": [
    "print(numerical)\n",
    "print(categorical)\n",
    "print(boolean)"
   ]
  },
  {
   "cell_type": "code",
   "execution_count": null,
   "metadata": {},
   "outputs": [],
   "source": []
  },
  {
   "cell_type": "markdown",
   "metadata": {},
   "source": [
    "\"period_number\" is a numerical value, but in our project, it is not a continuous variable. Instead, it is categorical, as it represents the grade period in which the student is enrolled. Therefore, we will convert it into a categorical or string type."
   ]
  },
  {
   "cell_type": "code",
   "execution_count": 40,
   "metadata": {},
   "outputs": [],
   "source": [
    "df['period_number'] = df['period_number'].astype('string')\n"
   ]
  },
  {
   "cell_type": "code",
   "execution_count": 41,
   "metadata": {},
   "outputs": [
    {
     "data": {
      "text/plain": [
       "string[python]"
      ]
     },
     "execution_count": 41,
     "metadata": {},
     "output_type": "execute_result"
    }
   ],
   "source": [
    "df['period_number'].dtypes"
   ]
  },
  {
   "cell_type": "markdown",
   "metadata": {},
   "source": [
    "The same scenario goes for \"state_number\" as it represents the geographical state, nos a continuos value"
   ]
  },
  {
   "cell_type": "code",
   "execution_count": 42,
   "metadata": {},
   "outputs": [],
   "source": [
    "df['state_number'] = df['state_number'].astype('string')"
   ]
  },
  {
   "cell_type": "code",
   "execution_count": 43,
   "metadata": {},
   "outputs": [
    {
     "data": {
      "text/plain": [
       "string[python]"
      ]
     },
     "execution_count": 43,
     "metadata": {},
     "output_type": "execute_result"
    }
   ],
   "source": [
    "df['state_number'].dtypes"
   ]
  },
  {
   "cell_type": "code",
   "execution_count": 10,
   "metadata": {},
   "outputs": [
    {
     "name": "stdout",
     "output_type": "stream",
     "text": [
      "<class 'pandas.core.frame.DataFrame'>\n",
      "RangeIndex: 19973 entries, 0 to 19972\n",
      "Data columns (total 42 columns):\n",
      " #   Column                   Non-Null Count  Dtype  \n",
      "---  ------                   --------------  -----  \n",
      " 0   resident_seq_number      19973 non-null  int64  \n",
      " 1   sex                      19973 non-null  object \n",
      " 2   age                      19973 non-null  int64  \n",
      " 3   school_type              19973 non-null  object \n",
      " 4   school_grade             19973 non-null  object \n",
      " 5   finished_grade           19973 non-null  bool   \n",
      " 6   em_hw_projects           19973 non-null  bool   \n",
      " 7   em_tests                 19973 non-null  bool   \n",
      " 8   em_multimedia_evidence   19973 non-null  bool   \n",
      " 9   em_class_participation   19973 non-null  bool   \n",
      " 10  em_class_work            19973 non-null  bool   \n",
      " 11  em_class_attendance      19973 non-null  bool   \n",
      " 12  em_other                 19973 non-null  bool   \n",
      " 13  em_no_evaluation         19973 non-null  bool   \n",
      " 14  et_smartphone            19973 non-null  bool   \n",
      " 15  et_laptop                19973 non-null  bool   \n",
      " 16  et_desktop_pc            19973 non-null  bool   \n",
      " 17  et_tablet                19973 non-null  bool   \n",
      " 18  et_flat_screen           19973 non-null  bool   \n",
      " 19  et_didactic_material     19973 non-null  bool   \n",
      " 20  et_other                 19973 non-null  bool   \n",
      " 21  et_none                  19973 non-null  bool   \n",
      " 22  hr_mother                19973 non-null  bool   \n",
      " 23  hr_father                19973 non-null  bool   \n",
      " 24  hr_female_relative       19973 non-null  bool   \n",
      " 25  hr_male_relative         19973 non-null  bool   \n",
      " 26  hr_female_non_relative   19973 non-null  bool   \n",
      " 27  hr_male_non_relative     19973 non-null  bool   \n",
      " 28  hr_none                  19973 non-null  bool   \n",
      " 29  help_hours               11307 non-null  float64\n",
      " 30  expected_grade           14428 non-null  object \n",
      " 31  ap_stressed              19973 non-null  bool   \n",
      " 32  ap_depressed             19973 non-null  bool   \n",
      " 33  ap_academic_desperation  19973 non-null  bool   \n",
      " 34  ap_social_difficulty     19973 non-null  bool   \n",
      " 35  ap_no_issues             19973 non-null  bool   \n",
      " 36  economic_participation   9575 non-null   object \n",
      " 37  work_hours               2935 non-null   float64\n",
      " 38  economic_consequences    2935 non-null   object \n",
      " 39  state_number             19973 non-null  string \n",
      " 40  period_type              19973 non-null  object \n",
      " 41  period_number            19973 non-null  string \n",
      "dtypes: bool(29), float64(2), int64(2), object(7), string(2)\n",
      "memory usage: 2.5+ MB\n"
     ]
    }
   ],
   "source": [
    "df.info()"
   ]
  },
  {
   "cell_type": "markdown",
   "metadata": {},
   "source": [
    "At this point I think we have the correct data types, we'll proceed and if needed we can come back and recheck"
   ]
  },
  {
   "cell_type": "markdown",
   "metadata": {},
   "source": [
    "## Missing Data"
   ]
  },
  {
   "cell_type": "markdown",
   "metadata": {},
   "source": [
    "We'll try to avoud missing values and justify any replacements"
   ]
  },
  {
   "cell_type": "markdown",
   "metadata": {},
   "source": [
    "### Initial validation"
   ]
  },
  {
   "cell_type": "code",
   "execution_count": 44,
   "metadata": {},
   "outputs": [
    {
     "data": {
      "text/plain": [
       "help_hours                 8666\n",
       "expected_grade             5545\n",
       "economic_participation    10398\n",
       "work_hours                17038\n",
       "economic_consequences     17038\n",
       "dtype: int64"
      ]
     },
     "execution_count": 44,
     "metadata": {},
     "output_type": "execute_result"
    }
   ],
   "source": [
    "df.isnull().sum()[lambda x: x > 0]"
   ]
  },
  {
   "cell_type": "markdown",
   "metadata": {},
   "source": [
    "### help_hours"
   ]
  },
  {
   "cell_type": "markdown",
   "metadata": {},
   "source": [
    "The \"help_hours\" value indicates the amount of time the student received help. According to the survey documentation, this field is relevant for students aged between 3 and 17 years old, so it would be blank for those above this age range. Additionally, for students within this age range who provided no answer, we can assume no help was received. In both scenarios, null values can be replaced with zero."
   ]
  },
  {
   "cell_type": "code",
   "execution_count": 45,
   "metadata": {},
   "outputs": [],
   "source": [
    "df['help_hours'] = df['help_hours'].fillna(0)"
   ]
  },
  {
   "cell_type": "markdown",
   "metadata": {},
   "source": [
    "### expected_grade"
   ]
  },
  {
   "cell_type": "markdown",
   "metadata": {},
   "source": [
    "In the case of \"expected_grade\", we'll replace null values with \"unknown\""
   ]
  },
  {
   "cell_type": "code",
   "execution_count": 46,
   "metadata": {},
   "outputs": [
    {
     "data": {
      "text/plain": [
       "expected_grade\n",
       "bachelors      11187\n",
       "high_school      506\n",
       "masters         1776\n",
       "primary           27\n",
       "secondary        173\n",
       "tech_bacc        183\n",
       "tech_school       14\n",
       "univ_tech        205\n",
       "unknown          357\n",
       "dtype: int64"
      ]
     },
     "execution_count": 46,
     "metadata": {},
     "output_type": "execute_result"
    }
   ],
   "source": [
    "df.groupby('expected_grade').size()"
   ]
  },
  {
   "cell_type": "code",
   "execution_count": 47,
   "metadata": {},
   "outputs": [],
   "source": [
    "df['expected_grade'] = df['expected_grade'].fillna('unknown')"
   ]
  },
  {
   "cell_type": "code",
   "execution_count": 48,
   "metadata": {},
   "outputs": [
    {
     "data": {
      "text/plain": [
       "expected_grade\n",
       "bachelors      11187\n",
       "high_school      506\n",
       "masters         1776\n",
       "primary           27\n",
       "secondary        173\n",
       "tech_bacc        183\n",
       "tech_school       14\n",
       "univ_tech        205\n",
       "unknown         5902\n",
       "dtype: int64"
      ]
     },
     "execution_count": 48,
     "metadata": {},
     "output_type": "execute_result"
    }
   ],
   "source": [
    "df.groupby('expected_grade').size()"
   ]
  },
  {
   "cell_type": "markdown",
   "metadata": {},
   "source": [
    "### economic_participation"
   ]
  },
  {
   "cell_type": "markdown",
   "metadata": {},
   "source": [
    "According to the survey documentation, this field is relevant for students aged between 14 and 29 years old, so it will be blank for those below this age range. We can validate it as follows:"
   ]
  },
  {
   "cell_type": "code",
   "execution_count": 49,
   "metadata": {},
   "outputs": [
    {
     "data": {
      "text/plain": [
       "age\n",
       "3       32\n",
       "4      362\n",
       "5      851\n",
       "6     1093\n",
       "7     1007\n",
       "8     1140\n",
       "9     1110\n",
       "10    1233\n",
       "11    1119\n",
       "12    1275\n",
       "13    1176\n",
       "dtype: int64"
      ]
     },
     "execution_count": 49,
     "metadata": {},
     "output_type": "execute_result"
    }
   ],
   "source": [
    "df[df['economic_participation'].isnull()].groupby('age').size()\n"
   ]
  },
  {
   "cell_type": "markdown",
   "metadata": {},
   "source": [
    "Therefore, we will replace null values with the category described as \"Studying or in a different\" (in the preprocessing phase, we filtered the records to include only enrolled students)."
   ]
  },
  {
   "cell_type": "markdown",
   "metadata": {},
   "source": [
    "| Numeric Value | Description (in Spanish)                                               | Description (Translated)                                      | New Value              |\n",
    "|---------------|------------------------------------------------------------------------|--------------------------------------------------------------|------------------------|\n",
    "| 1             | trabajó por lo menos una hora (tenía trabajo pero no trabajó)?         | Worked at least one hour (had a job but didn't work)?         | worked_one_hour       |\n",
    "| 2             | vendió o hizo algún producto para vender?                              | Sold or made a product to sell?                              | sold_product          |\n",
    "| 3             | ayudó en las labores del campo, cría de animales, o en el negocio de un familiar o de otra persona? | Helped with farming, animal husbandry, or a family/other's business? | family_business_help |\n",
    "| 4             | a cambio de un pago realizó otro tipo de actividad? (lavó o planchó ajeno, cuidó niños) | Performed other paid activity? (laundry, ironing, childcare) | paid_other_work       |\n",
    "| 5             | estuvo de aprendiz o haciendo su servicio social?                      | Was an apprentice or doing community service?                | apprentice_service    |\n",
    "| 6             | buscó trabajo?                                                        | Searched for a job?                                          | job_search            |\n",
    "| 7             | Estudia o está en otra situación diferente a las anteriores            | Studying or in a different situation                         | studying_other        |\n",
    "| b             | No sabe                                                  | Doesn't know                                           | unknown        |\n"
   ]
  },
  {
   "cell_type": "code",
   "execution_count": 50,
   "metadata": {},
   "outputs": [],
   "source": [
    "df['economic_participation'] = df['economic_participation'].fillna('studying_other')"
   ]
  },
  {
   "cell_type": "code",
   "execution_count": 51,
   "metadata": {},
   "outputs": [
    {
     "data": {
      "text/plain": [
       "economic_participation\n",
       "apprentice_service        115\n",
       "family_business_help      430\n",
       "job_search                158\n",
       "paid_other_work            19\n",
       "sold_product               72\n",
       "studying_other          16880\n",
       "worked_one_hour          2299\n",
       "dtype: int64"
      ]
     },
     "execution_count": 51,
     "metadata": {},
     "output_type": "execute_result"
    }
   ],
   "source": [
    "df.groupby('economic_participation').size()"
   ]
  },
  {
   "cell_type": "markdown",
   "metadata": {},
   "source": [
    "### work_hours"
   ]
  },
  {
   "cell_type": "markdown",
   "metadata": {},
   "source": [
    "These features are also focused for students above 14 years, so we can check null distribution by age"
   ]
  },
  {
   "cell_type": "code",
   "execution_count": 52,
   "metadata": {},
   "outputs": [
    {
     "data": {
      "text/plain": [
       "age\n",
       "3       32\n",
       "4      362\n",
       "5      851\n",
       "6     1093\n",
       "7     1007\n",
       "8     1140\n",
       "9     1110\n",
       "10    1233\n",
       "11    1119\n",
       "12    1275\n",
       "13    1176\n",
       "14    1077\n",
       "15    1043\n",
       "16     836\n",
       "17     801\n",
       "18     745\n",
       "19     465\n",
       "20     422\n",
       "21     409\n",
       "22     327\n",
       "23     212\n",
       "24     131\n",
       "25      71\n",
       "26      34\n",
       "27      31\n",
       "28      18\n",
       "29      18\n",
       "dtype: int64"
      ]
     },
     "execution_count": 52,
     "metadata": {},
     "output_type": "execute_result"
    }
   ],
   "source": [
    "df[df['work_hours'].isnull()].groupby('age').size()"
   ]
  },
  {
   "cell_type": "markdown",
   "metadata": {},
   "source": [
    "For cases above 14 years we can make the assumption that the lack of response is that there was no economic participation activities also, so we can replace null values with zero"
   ]
  },
  {
   "cell_type": "code",
   "execution_count": 53,
   "metadata": {},
   "outputs": [],
   "source": [
    "df['work_hours'] = df['work_hours'].fillna(0)"
   ]
  },
  {
   "cell_type": "code",
   "execution_count": 54,
   "metadata": {},
   "outputs": [
    {
     "data": {
      "text/plain": [
       "0"
      ]
     },
     "execution_count": 54,
     "metadata": {},
     "output_type": "execute_result"
    }
   ],
   "source": [
    "df['work_hours'].isnull().sum()"
   ]
  },
  {
   "cell_type": "markdown",
   "metadata": {},
   "source": [
    "### economic_consequences"
   ]
  },
  {
   "cell_type": "markdown",
   "metadata": {},
   "source": [
    "We can use the same approach for economic consequences"
   ]
  },
  {
   "cell_type": "code",
   "execution_count": 55,
   "metadata": {},
   "outputs": [
    {
     "data": {
      "text/plain": [
       "age\n",
       "3       32\n",
       "4      362\n",
       "5      851\n",
       "6     1093\n",
       "7     1007\n",
       "8     1140\n",
       "9     1110\n",
       "10    1233\n",
       "11    1119\n",
       "12    1275\n",
       "13    1176\n",
       "14    1077\n",
       "15    1043\n",
       "16     836\n",
       "17     801\n",
       "18     745\n",
       "19     465\n",
       "20     422\n",
       "21     409\n",
       "22     327\n",
       "23     212\n",
       "24     131\n",
       "25      71\n",
       "26      34\n",
       "27      31\n",
       "28      18\n",
       "29      18\n",
       "dtype: int64"
      ]
     },
     "execution_count": 55,
     "metadata": {},
     "output_type": "execute_result"
    }
   ],
   "source": [
    "df[df['economic_consequences'].isnull()].groupby('age').size()"
   ]
  },
  {
   "cell_type": "markdown",
   "metadata": {},
   "source": [
    "We'll use the `no_consequence` value"
   ]
  },
  {
   "cell_type": "code",
   "execution_count": 56,
   "metadata": {},
   "outputs": [
    {
     "data": {
      "text/plain": [
       "economic_consequences\n",
       "allocate_income        274\n",
       "economic_unsustain     160\n",
       "education_stop         228\n",
       "hire_replacement        44\n",
       "income_decrease        645\n",
       "no_consequence        1431\n",
       "other_consequence       27\n",
       "workload_increase      126\n",
       "dtype: int64"
      ]
     },
     "execution_count": 56,
     "metadata": {},
     "output_type": "execute_result"
    }
   ],
   "source": [
    "df.groupby('economic_consequences').size()"
   ]
  },
  {
   "cell_type": "code",
   "execution_count": 57,
   "metadata": {},
   "outputs": [],
   "source": [
    "df['economic_consequences'] = df['economic_consequences'].fillna('no_consequence')"
   ]
  },
  {
   "cell_type": "code",
   "execution_count": 58,
   "metadata": {},
   "outputs": [
    {
     "data": {
      "text/plain": [
       "economic_consequences\n",
       "allocate_income         274\n",
       "economic_unsustain      160\n",
       "education_stop          228\n",
       "hire_replacement         44\n",
       "income_decrease         645\n",
       "no_consequence        18469\n",
       "other_consequence        27\n",
       "workload_increase       126\n",
       "dtype: int64"
      ]
     },
     "execution_count": 58,
     "metadata": {},
     "output_type": "execute_result"
    }
   ],
   "source": [
    "df.groupby('economic_consequences').size()"
   ]
  },
  {
   "cell_type": "markdown",
   "metadata": {},
   "source": [
    "### Final Validation"
   ]
  },
  {
   "cell_type": "code",
   "execution_count": 59,
   "metadata": {},
   "outputs": [
    {
     "data": {
      "text/plain": [
       "Series([], dtype: int64)"
      ]
     },
     "execution_count": 59,
     "metadata": {},
     "output_type": "execute_result"
    }
   ],
   "source": [
    "df.isnull().sum()[lambda x: x > 0]"
   ]
  },
  {
   "cell_type": "markdown",
   "metadata": {},
   "source": [
    "## Descriptive Statistics"
   ]
  },
  {
   "cell_type": "code",
   "execution_count": 60,
   "metadata": {},
   "outputs": [
    {
     "data": {
      "text/html": [
       "<div>\n",
       "<style scoped>\n",
       "    .dataframe tbody tr th:only-of-type {\n",
       "        vertical-align: middle;\n",
       "    }\n",
       "\n",
       "    .dataframe tbody tr th {\n",
       "        vertical-align: top;\n",
       "    }\n",
       "\n",
       "    .dataframe thead th {\n",
       "        text-align: right;\n",
       "    }\n",
       "</style>\n",
       "<table border=\"1\" class=\"dataframe\">\n",
       "  <thead>\n",
       "    <tr style=\"text-align: right;\">\n",
       "      <th></th>\n",
       "      <th>resident_seq_number</th>\n",
       "      <th>age</th>\n",
       "      <th>help_hours</th>\n",
       "      <th>work_hours</th>\n",
       "    </tr>\n",
       "  </thead>\n",
       "  <tbody>\n",
       "    <tr>\n",
       "      <th>count</th>\n",
       "      <td>19973.000000</td>\n",
       "      <td>19973.000000</td>\n",
       "      <td>19973.000000</td>\n",
       "      <td>19973.000000</td>\n",
       "    </tr>\n",
       "    <tr>\n",
       "      <th>mean</th>\n",
       "      <td>1.818555</td>\n",
       "      <td>13.468883</td>\n",
       "      <td>4.166675</td>\n",
       "      <td>4.092275</td>\n",
       "    </tr>\n",
       "    <tr>\n",
       "      <th>std</th>\n",
       "      <td>0.956192</td>\n",
       "      <td>5.555088</td>\n",
       "      <td>5.790704</td>\n",
       "      <td>11.756149</td>\n",
       "    </tr>\n",
       "    <tr>\n",
       "      <th>min</th>\n",
       "      <td>1.000000</td>\n",
       "      <td>3.000000</td>\n",
       "      <td>0.000000</td>\n",
       "      <td>0.000000</td>\n",
       "    </tr>\n",
       "    <tr>\n",
       "      <th>25%</th>\n",
       "      <td>1.000000</td>\n",
       "      <td>9.000000</td>\n",
       "      <td>0.000000</td>\n",
       "      <td>0.000000</td>\n",
       "    </tr>\n",
       "    <tr>\n",
       "      <th>50%</th>\n",
       "      <td>2.000000</td>\n",
       "      <td>13.000000</td>\n",
       "      <td>2.000000</td>\n",
       "      <td>0.000000</td>\n",
       "    </tr>\n",
       "    <tr>\n",
       "      <th>75%</th>\n",
       "      <td>2.000000</td>\n",
       "      <td>18.000000</td>\n",
       "      <td>6.000000</td>\n",
       "      <td>0.000000</td>\n",
       "    </tr>\n",
       "    <tr>\n",
       "      <th>max</th>\n",
       "      <td>10.000000</td>\n",
       "      <td>29.000000</td>\n",
       "      <td>99.000000</td>\n",
       "      <td>99.000000</td>\n",
       "    </tr>\n",
       "  </tbody>\n",
       "</table>\n",
       "</div>"
      ],
      "text/plain": [
       "       resident_seq_number           age    help_hours    work_hours\n",
       "count         19973.000000  19973.000000  19973.000000  19973.000000\n",
       "mean              1.818555     13.468883      4.166675      4.092275\n",
       "std               0.956192      5.555088      5.790704     11.756149\n",
       "min               1.000000      3.000000      0.000000      0.000000\n",
       "25%               1.000000      9.000000      0.000000      0.000000\n",
       "50%               2.000000     13.000000      2.000000      0.000000\n",
       "75%               2.000000     18.000000      6.000000      0.000000\n",
       "max              10.000000     29.000000     99.000000     99.000000"
      ]
     },
     "execution_count": 60,
     "metadata": {},
     "output_type": "execute_result"
    }
   ],
   "source": [
    "df.describe()"
   ]
  },
  {
   "cell_type": "code",
   "execution_count": 61,
   "metadata": {},
   "outputs": [
    {
     "data": {
      "text/plain": [
       "19973"
      ]
     },
     "execution_count": 61,
     "metadata": {},
     "output_type": "execute_result"
    }
   ],
   "source": [
    "df.shape[0]  # Total rows (instances) in the DataFrame"
   ]
  },
  {
   "cell_type": "markdown",
   "metadata": {},
   "source": [
    "We need to adjust the \"98 and 99\" values in help_hours and work_hours, as according to the survey documentation, they represent an unknown value. To avoid any bias or influence, we will replace these values with zero."
   ]
  },
  {
   "cell_type": "code",
   "execution_count": 65,
   "metadata": {},
   "outputs": [
    {
     "data": {
      "text/plain": [
       "help_hours    5\n",
       "work_hours    2\n",
       "dtype: int64"
      ]
     },
     "execution_count": 65,
     "metadata": {},
     "output_type": "execute_result"
    }
   ],
   "source": [
    "(df == 99).sum()[lambda x: x > 0]"
   ]
  },
  {
   "cell_type": "code",
   "execution_count": 66,
   "metadata": {},
   "outputs": [
    {
     "data": {
      "text/plain": [
       "help_hours    3\n",
       "dtype: int64"
      ]
     },
     "execution_count": 66,
     "metadata": {},
     "output_type": "execute_result"
    }
   ],
   "source": [
    "(df == 98).sum()[lambda x: x > 0]"
   ]
  },
  {
   "cell_type": "markdown",
   "metadata": {},
   "source": [
    "There are only 10 records out of 19973 in this scenario, we can expect no impact"
   ]
  },
  {
   "cell_type": "code",
   "execution_count": 67,
   "metadata": {},
   "outputs": [],
   "source": [
    "# Replace values in help_hours\n",
    "df['help_hours'] = df['help_hours'].replace({98: 0, 99: 0})\n",
    "\n",
    "# Replace values in work_hours\n",
    "df['work_hours'] = df['work_hours'].replace({99: 0})\n"
   ]
  },
  {
   "cell_type": "code",
   "execution_count": 68,
   "metadata": {},
   "outputs": [
    {
     "data": {
      "text/plain": [
       "Series([], dtype: int64)"
      ]
     },
     "execution_count": 68,
     "metadata": {},
     "output_type": "execute_result"
    }
   ],
   "source": [
    "(df == 99).sum()[lambda x: x > 0]"
   ]
  },
  {
   "cell_type": "code",
   "execution_count": 69,
   "metadata": {},
   "outputs": [
    {
     "data": {
      "text/plain": [
       "Series([], dtype: int64)"
      ]
     },
     "execution_count": 69,
     "metadata": {},
     "output_type": "execute_result"
    }
   ],
   "source": [
    "(df == 98).sum()[lambda x: x > 0]"
   ]
  },
  {
   "cell_type": "markdown",
   "metadata": {},
   "source": [
    "There are no more evident outliers, so we'll check descriptive statistics and generate distribution graphs by category type"
   ]
  },
  {
   "cell_type": "markdown",
   "metadata": {},
   "source": [
    "### Graph function"
   ]
  },
  {
   "cell_type": "code",
   "execution_count": 131,
   "metadata": {},
   "outputs": [],
   "source": [
    "import matplotlib.pyplot as plt\n",
    "\n",
    "def plot_distribution(df, feature_list, title=\"Distribution Plot\", columns=2, color='blue', row_height=4):\n",
    "\n",
    "    print(f\"\\n  {title}\")\n",
    "    \n",
    "    # General figure settings\n",
    "    rows = -(-len(feature_list) // columns)  # Redondear hacia arriba\n",
    "    fig, axes = plt.subplots(nrows=rows, ncols=columns, figsize=(15, rows * row_height))\n",
    "    \n",
    "    # Validate 2D list\n",
    "    axes = axes.flatten() if rows > 1 or columns > 1 else [axes]\n",
    "    \n",
    "    # Plot each variable\n",
    "    for i, col in enumerate(feature_list):\n",
    "        ax = axes[i]\n",
    "        counts = df[col].value_counts().sort_index()\n",
    "        counts.plot(kind='bar', ax=ax, color=color)\n",
    "        \n",
    "        # Set titles and labels\n",
    "        ax.set_title(f\"Distribución de {col}\", fontsize=10)\n",
    "        ax.set_xlabel(col, fontsize=8)\n",
    "        ax.set_ylabel(\"Frecuencia\", fontsize=8)\n",
    "        ax.tick_params(axis='both', which='major', labelsize=8)\n",
    "    \n",
    "    # turn off unused spaces\n",
    "    for j in range(len(feature_list), len(axes)):\n",
    "        axes[j].axis('off')\n",
    "\n",
    "    # adjust general figure\n",
    "    plt.tight_layout()\n",
    "    plt.show()"
   ]
  },
  {
   "cell_type": "markdown",
   "metadata": {},
   "source": [
    "### Numerical features"
   ]
  },
  {
   "cell_type": "code",
   "execution_count": 132,
   "metadata": {},
   "outputs": [
    {
     "data": {
      "text/plain": [
       "['resident_seq_number', 'age', 'help_hours', 'work_hours']"
      ]
     },
     "execution_count": 132,
     "metadata": {},
     "output_type": "execute_result"
    }
   ],
   "source": [
    "numerical = list(df.select_dtypes(include=['float64', 'int64']).columns)\n",
    "numerical\n"
   ]
  },
  {
   "cell_type": "code",
   "execution_count": 75,
   "metadata": {},
   "outputs": [
    {
     "data": {
      "text/html": [
       "<div>\n",
       "<style scoped>\n",
       "    .dataframe tbody tr th:only-of-type {\n",
       "        vertical-align: middle;\n",
       "    }\n",
       "\n",
       "    .dataframe tbody tr th {\n",
       "        vertical-align: top;\n",
       "    }\n",
       "\n",
       "    .dataframe thead th {\n",
       "        text-align: right;\n",
       "    }\n",
       "</style>\n",
       "<table border=\"1\" class=\"dataframe\">\n",
       "  <thead>\n",
       "    <tr style=\"text-align: right;\">\n",
       "      <th></th>\n",
       "      <th>resident_seq_number</th>\n",
       "      <th>age</th>\n",
       "      <th>help_hours</th>\n",
       "      <th>work_hours</th>\n",
       "    </tr>\n",
       "  </thead>\n",
       "  <tbody>\n",
       "    <tr>\n",
       "      <th>count</th>\n",
       "      <td>19973.0</td>\n",
       "      <td>19973.0</td>\n",
       "      <td>19973.0</td>\n",
       "      <td>19973.0</td>\n",
       "    </tr>\n",
       "    <tr>\n",
       "      <th>mean</th>\n",
       "      <td>2.0</td>\n",
       "      <td>13.0</td>\n",
       "      <td>4.0</td>\n",
       "      <td>4.0</td>\n",
       "    </tr>\n",
       "    <tr>\n",
       "      <th>std</th>\n",
       "      <td>1.0</td>\n",
       "      <td>6.0</td>\n",
       "      <td>5.0</td>\n",
       "      <td>12.0</td>\n",
       "    </tr>\n",
       "    <tr>\n",
       "      <th>min</th>\n",
       "      <td>1.0</td>\n",
       "      <td>3.0</td>\n",
       "      <td>0.0</td>\n",
       "      <td>0.0</td>\n",
       "    </tr>\n",
       "    <tr>\n",
       "      <th>25%</th>\n",
       "      <td>1.0</td>\n",
       "      <td>9.0</td>\n",
       "      <td>0.0</td>\n",
       "      <td>0.0</td>\n",
       "    </tr>\n",
       "    <tr>\n",
       "      <th>50%</th>\n",
       "      <td>2.0</td>\n",
       "      <td>13.0</td>\n",
       "      <td>2.0</td>\n",
       "      <td>0.0</td>\n",
       "    </tr>\n",
       "    <tr>\n",
       "      <th>75%</th>\n",
       "      <td>2.0</td>\n",
       "      <td>18.0</td>\n",
       "      <td>6.0</td>\n",
       "      <td>0.0</td>\n",
       "    </tr>\n",
       "    <tr>\n",
       "      <th>max</th>\n",
       "      <td>10.0</td>\n",
       "      <td>29.0</td>\n",
       "      <td>60.0</td>\n",
       "      <td>60.0</td>\n",
       "    </tr>\n",
       "  </tbody>\n",
       "</table>\n",
       "</div>"
      ],
      "text/plain": [
       "       resident_seq_number      age  help_hours  work_hours\n",
       "count              19973.0  19973.0     19973.0     19973.0\n",
       "mean                   2.0     13.0         4.0         4.0\n",
       "std                    1.0      6.0         5.0        12.0\n",
       "min                    1.0      3.0         0.0         0.0\n",
       "25%                    1.0      9.0         0.0         0.0\n",
       "50%                    2.0     13.0         2.0         0.0\n",
       "75%                    2.0     18.0         6.0         0.0\n",
       "max                   10.0     29.0        60.0        60.0"
      ]
     },
     "execution_count": 75,
     "metadata": {},
     "output_type": "execute_result"
    }
   ],
   "source": [
    "df.describe().round()"
   ]
  },
  {
   "cell_type": "code",
   "execution_count": 133,
   "metadata": {},
   "outputs": [
    {
     "name": "stdout",
     "output_type": "stream",
     "text": [
      "\n",
      "  Distribution Plot\n"
     ]
    },
    {
     "data": {
      "image/png": "[encoded data removed]",
      "text/plain": [
       "<Figure size 1500x800 with 4 Axes>"
      ]
     },
     "metadata": {},
     "output_type": "display_data"
    }
   ],
   "source": [
    "plot_distribution(df, feature_list=numerical, columns=2)"
   ]
  },
  {
   "cell_type": "markdown",
   "metadata": {},
   "source": [
    "Numerical Features Highlights:\n",
    "\n",
    "- `resident_seq_number` shows an expected pattern, as it is associated with family size, so it is anticipated that the value will be small.\n",
    "- `age` shows a tendency toward ages between 6 and 15 years, which is also expected since it corresponds to elementary and middle school levels, which are mandatory by law in Mexico.\n",
    "- `help_hours` and `work_hours` exhibit a known survey effect where people tend to select round numbers (recall bias). In both cases, the value \"0\" predominates because both survey questions are tied to a subset of the survey.\n",
    "- This distributions indicate opportunities to develop a future model segmented by relevant features, `age` for example.\n"
   ]
  },
  {
   "cell_type": "code",
   "execution_count": 140,
   "metadata": {},
   "outputs": [
    {
     "data": {
      "image/png": "[encoded data removed]",
      "text/plain": [
       "<Figure size 900x500 with 1 Axes>"
      ]
     },
     "metadata": {},
     "output_type": "display_data"
    }
   ],
   "source": [
    "stacked_data = df.groupby(['age', 'school_grade']).size().unstack(fill_value=0)\n",
    "\n",
    "stacked_data.plot(kind='bar', stacked=True, figsize=(9, 5))\n",
    "\n",
    "plt.title('School Grade by Age', fontsize=14)\n",
    "plt.xlabel('Age', fontsize=12)\n",
    "plt.ylabel('Quantity', fontsize=12)\n",
    "plt.legend(title='School Grade', fontsize=10)\n",
    "plt.xticks(rotation=0)\n",
    "\n",
    "plt.tight_layout()\n",
    "plt.show()"
   ]
  },
  {
   "cell_type": "code",
   "execution_count": 78,
   "metadata": {},
   "outputs": [
    {
     "data": {
      "text/html": [
       "<div>\n",
       "<style scoped>\n",
       "    .dataframe tbody tr th:only-of-type {\n",
       "        vertical-align: middle;\n",
       "    }\n",
       "\n",
       "    .dataframe tbody tr th {\n",
       "        vertical-align: top;\n",
       "    }\n",
       "\n",
       "    .dataframe thead th {\n",
       "        text-align: right;\n",
       "    }\n",
       "</style>\n",
       "<table border=\"1\" class=\"dataframe\">\n",
       "  <thead>\n",
       "    <tr style=\"text-align: right;\">\n",
       "      <th></th>\n",
       "      <th>sex</th>\n",
       "      <th>school_type</th>\n",
       "      <th>school_grade</th>\n",
       "      <th>expected_grade</th>\n",
       "      <th>economic_participation</th>\n",
       "      <th>economic_consequences</th>\n",
       "      <th>period_type</th>\n",
       "    </tr>\n",
       "  </thead>\n",
       "  <tbody>\n",
       "    <tr>\n",
       "      <th>count</th>\n",
       "      <td>19973</td>\n",
       "      <td>19973</td>\n",
       "      <td>19973</td>\n",
       "      <td>19973</td>\n",
       "      <td>19973</td>\n",
       "      <td>19973</td>\n",
       "      <td>19973</td>\n",
       "    </tr>\n",
       "    <tr>\n",
       "      <th>unique</th>\n",
       "      <td>2</td>\n",
       "      <td>2</td>\n",
       "      <td>11</td>\n",
       "      <td>9</td>\n",
       "      <td>7</td>\n",
       "      <td>8</td>\n",
       "      <td>6</td>\n",
       "    </tr>\n",
       "    <tr>\n",
       "      <th>top</th>\n",
       "      <td>male</td>\n",
       "      <td>public</td>\n",
       "      <td>primary</td>\n",
       "      <td>bachelors</td>\n",
       "      <td>studying_other</td>\n",
       "      <td>no_consequence</td>\n",
       "      <td>year</td>\n",
       "    </tr>\n",
       "    <tr>\n",
       "      <th>freq</th>\n",
       "      <td>10231</td>\n",
       "      <td>17826</td>\n",
       "      <td>7172</td>\n",
       "      <td>11187</td>\n",
       "      <td>16880</td>\n",
       "      <td>18469</td>\n",
       "      <td>16109</td>\n",
       "    </tr>\n",
       "  </tbody>\n",
       "</table>\n",
       "</div>"
      ],
      "text/plain": [
       "          sex school_type school_grade expected_grade economic_participation  \\\n",
       "count   19973       19973        19973          19973                  19973   \n",
       "unique      2           2           11              9                      7   \n",
       "top      male      public      primary      bachelors         studying_other   \n",
       "freq    10231       17826         7172          11187                  16880   \n",
       "\n",
       "       economic_consequences period_type  \n",
       "count                  19973       19973  \n",
       "unique                     8           6  \n",
       "top           no_consequence        year  \n",
       "freq                   18469       16109  "
      ]
     },
     "execution_count": 78,
     "metadata": {},
     "output_type": "execute_result"
    }
   ],
   "source": [
    "df.describe(include=['object'])"
   ]
  },
  {
   "cell_type": "code",
   "execution_count": 79,
   "metadata": {},
   "outputs": [
    {
     "data": {
      "text/html": [
       "<div>\n",
       "<style scoped>\n",
       "    .dataframe tbody tr th:only-of-type {\n",
       "        vertical-align: middle;\n",
       "    }\n",
       "\n",
       "    .dataframe tbody tr th {\n",
       "        vertical-align: top;\n",
       "    }\n",
       "\n",
       "    .dataframe thead th {\n",
       "        text-align: right;\n",
       "    }\n",
       "</style>\n",
       "<table border=\"1\" class=\"dataframe\">\n",
       "  <thead>\n",
       "    <tr style=\"text-align: right;\">\n",
       "      <th></th>\n",
       "      <th>state_number</th>\n",
       "      <th>period_number</th>\n",
       "    </tr>\n",
       "  </thead>\n",
       "  <tbody>\n",
       "    <tr>\n",
       "      <th>count</th>\n",
       "      <td>19973</td>\n",
       "      <td>19973</td>\n",
       "    </tr>\n",
       "    <tr>\n",
       "      <th>unique</th>\n",
       "      <td>32</td>\n",
       "      <td>14</td>\n",
       "    </tr>\n",
       "    <tr>\n",
       "      <th>top</th>\n",
       "      <td>29</td>\n",
       "      <td>3.0</td>\n",
       "    </tr>\n",
       "    <tr>\n",
       "      <th>freq</th>\n",
       "      <td>1128</td>\n",
       "      <td>4878</td>\n",
       "    </tr>\n",
       "  </tbody>\n",
       "</table>\n",
       "</div>"
      ],
      "text/plain": [
       "       state_number period_number\n",
       "count         19973         19973\n",
       "unique           32            14\n",
       "top              29           3.0\n",
       "freq           1128          4878"
      ]
     },
     "execution_count": 79,
     "metadata": {},
     "output_type": "execute_result"
    }
   ],
   "source": [
    "df.describe(include=['string'])"
   ]
  },
  {
   "cell_type": "code",
   "execution_count": 80,
   "metadata": {},
   "outputs": [
    {
     "data": {
      "text/html": [
       "<div>\n",
       "<style scoped>\n",
       "    .dataframe tbody tr th:only-of-type {\n",
       "        vertical-align: middle;\n",
       "    }\n",
       "\n",
       "    .dataframe tbody tr th {\n",
       "        vertical-align: top;\n",
       "    }\n",
       "\n",
       "    .dataframe thead th {\n",
       "        text-align: right;\n",
       "    }\n",
       "</style>\n",
       "<table border=\"1\" class=\"dataframe\">\n",
       "  <thead>\n",
       "    <tr style=\"text-align: right;\">\n",
       "      <th></th>\n",
       "      <th>finished_grade</th>\n",
       "      <th>em_hw_projects</th>\n",
       "      <th>em_tests</th>\n",
       "      <th>em_multimedia_evidence</th>\n",
       "      <th>em_class_participation</th>\n",
       "      <th>em_class_work</th>\n",
       "      <th>em_class_attendance</th>\n",
       "      <th>em_other</th>\n",
       "      <th>em_no_evaluation</th>\n",
       "      <th>et_smartphone</th>\n",
       "      <th>...</th>\n",
       "      <th>hr_female_relative</th>\n",
       "      <th>hr_male_relative</th>\n",
       "      <th>hr_female_non_relative</th>\n",
       "      <th>hr_male_non_relative</th>\n",
       "      <th>hr_none</th>\n",
       "      <th>ap_stressed</th>\n",
       "      <th>ap_depressed</th>\n",
       "      <th>ap_academic_desperation</th>\n",
       "      <th>ap_social_difficulty</th>\n",
       "      <th>ap_no_issues</th>\n",
       "    </tr>\n",
       "  </thead>\n",
       "  <tbody>\n",
       "    <tr>\n",
       "      <th>count</th>\n",
       "      <td>19973</td>\n",
       "      <td>19973</td>\n",
       "      <td>19973</td>\n",
       "      <td>19973</td>\n",
       "      <td>19973</td>\n",
       "      <td>19973</td>\n",
       "      <td>19973</td>\n",
       "      <td>19973</td>\n",
       "      <td>19973</td>\n",
       "      <td>19973</td>\n",
       "      <td>...</td>\n",
       "      <td>19973</td>\n",
       "      <td>19973</td>\n",
       "      <td>19973</td>\n",
       "      <td>19973</td>\n",
       "      <td>19973</td>\n",
       "      <td>19973</td>\n",
       "      <td>19973</td>\n",
       "      <td>19973</td>\n",
       "      <td>19973</td>\n",
       "      <td>19973</td>\n",
       "    </tr>\n",
       "    <tr>\n",
       "      <th>unique</th>\n",
       "      <td>2</td>\n",
       "      <td>2</td>\n",
       "      <td>2</td>\n",
       "      <td>2</td>\n",
       "      <td>2</td>\n",
       "      <td>2</td>\n",
       "      <td>2</td>\n",
       "      <td>2</td>\n",
       "      <td>2</td>\n",
       "      <td>2</td>\n",
       "      <td>...</td>\n",
       "      <td>2</td>\n",
       "      <td>2</td>\n",
       "      <td>2</td>\n",
       "      <td>2</td>\n",
       "      <td>2</td>\n",
       "      <td>2</td>\n",
       "      <td>2</td>\n",
       "      <td>2</td>\n",
       "      <td>2</td>\n",
       "      <td>2</td>\n",
       "    </tr>\n",
       "    <tr>\n",
       "      <th>top</th>\n",
       "      <td>True</td>\n",
       "      <td>True</td>\n",
       "      <td>True</td>\n",
       "      <td>False</td>\n",
       "      <td>False</td>\n",
       "      <td>False</td>\n",
       "      <td>False</td>\n",
       "      <td>False</td>\n",
       "      <td>False</td>\n",
       "      <td>True</td>\n",
       "      <td>...</td>\n",
       "      <td>False</td>\n",
       "      <td>False</td>\n",
       "      <td>False</td>\n",
       "      <td>False</td>\n",
       "      <td>False</td>\n",
       "      <td>False</td>\n",
       "      <td>False</td>\n",
       "      <td>False</td>\n",
       "      <td>False</td>\n",
       "      <td>True</td>\n",
       "    </tr>\n",
       "    <tr>\n",
       "      <th>freq</th>\n",
       "      <td>19585</td>\n",
       "      <td>17278</td>\n",
       "      <td>11247</td>\n",
       "      <td>13567</td>\n",
       "      <td>16064</td>\n",
       "      <td>10988</td>\n",
       "      <td>16990</td>\n",
       "      <td>19910</td>\n",
       "      <td>19709</td>\n",
       "      <td>13531</td>\n",
       "      <td>...</td>\n",
       "      <td>17942</td>\n",
       "      <td>19031</td>\n",
       "      <td>19849</td>\n",
       "      <td>19894</td>\n",
       "      <td>16852</td>\n",
       "      <td>14101</td>\n",
       "      <td>17792</td>\n",
       "      <td>15241</td>\n",
       "      <td>19036</td>\n",
       "      <td>10199</td>\n",
       "    </tr>\n",
       "  </tbody>\n",
       "</table>\n",
       "<p>4 rows × 29 columns</p>\n",
       "</div>"
      ],
      "text/plain": [
       "       finished_grade em_hw_projects em_tests em_multimedia_evidence  \\\n",
       "count           19973          19973    19973                  19973   \n",
       "unique              2              2        2                      2   \n",
       "top              True           True     True                  False   \n",
       "freq            19585          17278    11247                  13567   \n",
       "\n",
       "       em_class_participation em_class_work em_class_attendance em_other  \\\n",
       "count                   19973         19973               19973    19973   \n",
       "unique                      2             2                   2        2   \n",
       "top                     False         False               False    False   \n",
       "freq                    16064         10988               16990    19910   \n",
       "\n",
       "       em_no_evaluation et_smartphone  ... hr_female_relative  \\\n",
       "count             19973         19973  ...              19973   \n",
       "unique                2             2  ...                  2   \n",
       "top               False          True  ...              False   \n",
       "freq              19709         13531  ...              17942   \n",
       "\n",
       "       hr_male_relative hr_female_non_relative hr_male_non_relative hr_none  \\\n",
       "count             19973                  19973                19973   19973   \n",
       "unique                2                      2                    2       2   \n",
       "top               False                  False                False   False   \n",
       "freq              19031                  19849                19894   16852   \n",
       "\n",
       "       ap_stressed ap_depressed ap_academic_desperation ap_social_difficulty  \\\n",
       "count        19973        19973                   19973                19973   \n",
       "unique           2            2                       2                    2   \n",
       "top          False        False                   False                False   \n",
       "freq         14101        17792                   15241                19036   \n",
       "\n",
       "       ap_no_issues  \n",
       "count         19973  \n",
       "unique            2  \n",
       "top            True  \n",
       "freq          10199  \n",
       "\n",
       "[4 rows x 29 columns]"
      ]
     },
     "execution_count": 80,
     "metadata": {},
     "output_type": "execute_result"
    }
   ],
   "source": [
    "df.describe(include=['bool'])"
   ]
  },
  {
   "cell_type": "code",
   "execution_count": 82,
   "metadata": {},
   "outputs": [
    {
     "name": "stdout",
     "output_type": "stream",
     "text": [
      "['resident_seq_number', 'age', 'help_hours', 'work_hours']\n",
      "['sex', 'school_type', 'school_grade', 'expected_grade', 'economic_participation', 'economic_consequences', 'state_number', 'period_type', 'period_number']\n",
      "['finished_grade', 'em_hw_projects', 'em_tests', 'em_multimedia_evidence', 'em_class_participation', 'em_class_work', 'em_class_attendance', 'em_other', 'em_no_evaluation', 'et_smartphone', 'et_laptop', 'et_desktop_pc', 'et_tablet', 'et_flat_screen', 'et_didactic_material', 'et_other', 'et_none', 'hr_mother', 'hr_father', 'hr_female_relative', 'hr_male_relative', 'hr_female_non_relative', 'hr_male_non_relative', 'hr_none', 'ap_stressed', 'ap_depressed', 'ap_academic_desperation', 'ap_social_difficulty', 'ap_no_issues']\n"
     ]
    }
   ],
   "source": [
    "numerical = list(df.select_dtypes(include=['float64', 'int64']).columns)\n",
    "categorical = list(df.select_dtypes(include=['object', 'category', 'string']).columns)\n",
    "boolean = list(df.select_dtypes(include=['bool']).columns)\n",
    "print(numerical)\n",
    "print(categorical)\n",
    "print(boolean)\n"
   ]
  },
  {
   "cell_type": "markdown",
   "metadata": {},
   "source": [
    "## Placeholder"
   ]
  },
  {
   "cell_type": "code",
   "execution_count": null,
   "metadata": {},
   "outputs": [],
   "source": []
  },
  {
   "cell_type": "markdown",
   "metadata": {},
   "source": [
    "## EOF"
   ]
  },
  {
   "cell_type": "code",
   "execution_count": null,
   "metadata": {},
   "outputs": [],
   "source": [
    "\n"
   ]
  },
  {
   "cell_type": "code",
   "execution_count": 129,
   "metadata": {},
   "outputs": [
    {
     "name": "stdout",
     "output_type": "stream",
     "text": [
      "\n",
      "  Distribution Plot\n"
     ]
    },
    {
     "data": {
      "image/png": "[encoded data removed]",
      "text/plain": [
       "<Figure size 1500x1600 with 32 Axes>"
      ]
     },
     "metadata": {},
     "output_type": "display_data"
    }
   ],
   "source": [
    "# Llamada a la función con un row_height personalizado\n",
    "plot_distribution(df, feature_list=boolean, columns=4, row_height=2)\n"
   ]
  },
  {
   "cell_type": "code",
   "execution_count": null,
   "metadata": {},
   "outputs": [],
   "source": []
  }
 ],
 "metadata": {
  "kernelspec": {
   "display_name": "base",
   "language": "python",
   "name": "python3"
  },
  "language_info": {
   "codemirror_mode": {
    "name": "ipython",
    "version": 3
   },
   "file_extension": ".py",
   "mimetype": "text/x-python",
   "name": "python",
   "nbconvert_exporter": "python",
   "pygments_lexer": "ipython3",
   "version": "3.11.7"
  }
 },
 "nbformat": 4,
 "nbformat_minor": 2
}
